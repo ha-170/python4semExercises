{
 "cells": [
  {
   "cell_type": "markdown",
   "metadata": {},
   "source": [
    "# Week 3 handin"
   ]
  },
  {
   "cell_type": "markdown",
   "metadata": {},
   "source": [
    "## Assignment\n",
    "\n"
   ]
  },
  {
   "cell_type": "markdown",
   "metadata": {},
   "source": [
    "## Status\n",
    "Here is a status on the handin. How far you got. What is implemented and what is not"
   ]
  },
  {
   "cell_type": "markdown",
   "metadata": {},
   "source": [
    "## Exercises\n",
    "### Ex 1 Classes\n",
    "1. Create 3 classes: Student, DataSheet and Course\n",
    "2. A student has a data_sheet and a data_sheet has multiple courses in particular order\n",
    "3. Each course has name, classroom, teacher, ETCS and optional grade if course is taken.\n",
    "4. In Student create __init__() so that a Student can be initiated with name, gender, data_sheet and image_url\n",
    "5. In DataSheet create a method to get_grades_as_list()\n",
    "6. In student create a method: get_avg_grade()\n",
    "7. Create a function that can generate n number of students with random: name, gender, courses (from a fixed list of course names), grades, img_url\n",
    "   1. Let the function write the result to a csv file with format stud_name, course_name, teacher, ects, classroom, grade, img_url\n",
    "7. Read student data into a list of Students from a csv file: \n",
    "   1. loop through the list and print each student with name, img_url and avg_grade.\n",
    "   2. sort the list by avg_grade\n",
    "   3. create a bar chart with student_name on x and avg_grade on y-axis\n",
    "8. Make a method on Student class that can show progression of the study in % (add up ECTS from all passed courses divided by total of 150 total points (equivalent to 5 semesters))\n",
    "9. Show a bar chart of distribution of study progression on x-axis and number of students in each category on y-axis. (e.g. make 10 categories from 0-100%)\n",
    "\n",
    "Extra: Make the Datasheet class iterable so that next(data_sheet) will return the next course in the list\n",
    "\n",
    "### Ex 2 Exceptions (extra)\n",
    "1. Create a function that can take a list of students and return the 3 students closest to completing their study.\n",
    "2. If list is shorter than 3 raise your own custom exception (NotEnoughStudentsException)\n",
    "3. Create another function that can create a csv file with 3 students closest to completion\n",
    "   1. If an exception is raised write an appropriate message to the file\n",
    "\n",
    "### Ex 3 Plotting (extra)\n",
    "1. Create a function that can take a list of students and show a pie chart of how students are distributed in ECTS percentage categories (10%, 20%, ...)\n",
    "2. create a function that can take a list of students and show how many students have taken each course (bar chart)\n",
    "   1. create a method on student that can return a list of courses\n",
    "3. make the figure show males and females in different colors for each course (display 2 datasets in same figure)\n"
   ]
  },
  {
   "cell_type": "markdown",
   "metadata": {},
   "source": [
    "## Exercise 1"
   ]
  },
  {
   "cell_type": "code",
   "execution_count": 39,
   "metadata": {},
   "outputs": [],
   "source": [
    "#Read student data into a list of Students from a csv file:\n",
    "#loop through the list and print each student with name, img_url and avg_grade.\n",
    "#sort the list by avg_grade\n",
    "#create a bar chart with student_name on x and avg_grade on y-axis\n",
    "#Make a method on Student class that can show progression of the study in % (add up ECTS from all passed courses divided by total of 150 total points (equivalent to 5 semesters))\n",
    "#Show a bar chart of distribution of study progression on x-axis and number of students in each category on y-axis. (e.g. make 10 categories from 0-100%)\n",
    "import random\n",
    "\n",
    "class Student():\n",
    "    def __init__(self, name, gender, data_sheet, image_url):\n",
    "        self.name = name\n",
    "        self.gender = gender\n",
    "        self.data_sheet = data_sheet\n",
    "        self.image_url = image_url\n",
    "        \n",
    "    def __repr__(self):\n",
    "        return 'Student(%r, %r, %r, %r)' % (self.name, self.gender, self.data_sheet, self.image_url)\n",
    "    \n",
    "    def __str__(self):\n",
    "        return 'Name: {name} Gender: {gender} Courses: {courses} Image: {image}'.format(\n",
    "            name=self.name, gender=self.gender, courses=self.data_sheet, image=self.image_url)\n",
    "    \n",
    "        \n",
    "    def get_avg_grade(data_sheet):\n",
    "        grades_list = data_sheet.get_grades_as_list(data_sheet.courses)        \n",
    "        average_grade = sum(grades_list)/len(grades_list)\n",
    "        return average_grade\n",
    "\n",
    "\n",
    "\n",
    "class DataSheet():\n",
    "    def __init__(self, courses=[]):\n",
    "        self.courses = courses\n",
    "        \n",
    "    def __repr__(self):\n",
    "        return 'DataSheet(%r)' % (self.courses)\n",
    "\n",
    "    def __str__(self):\n",
    "        return 'Courses: {courses}'.format(courses=self.courses)\n",
    "        \n",
    "    def get_grades_as_list(self):\n",
    "        grades = []\n",
    "        for course in self.courses:\n",
    "            grades.append(course.grade)\n",
    "        return grades\n",
    "        \n",
    "\n",
    "\n",
    "\n",
    "class Course():\n",
    "    def __init__(self, name, classroom, teacher, ECTS):\n",
    "        self.name = name\n",
    "        self.classroom = classroom\n",
    "        self.teacher = teacher\n",
    "        self.ECTS = ECTS\n",
    "        self.grade = None\n",
    "        \n",
    "    def __repr__(self):\n",
    "        return 'Course(%r, %r, %r, %r)' % (self.name, self.classroom, self.teacher, self.ECTS)\n",
    "    \n",
    "    def __str__(self):\n",
    "        return 'Course name: {name} Class room: {classroom} Teacher: {teacher} ECTS: {ECTS}'.format(\n",
    "            name=self.name, classroom=self.classroom, teacher=self.teacher, ECTS=self.ECTS)\n",
    "    \n",
    "\n",
    "\n"
   ]
  },
  {
   "cell_type": "code",
   "execution_count": 44,
   "metadata": {},
   "outputs": [
    {
     "name": "stdout",
     "output_type": "stream",
     "text": [
      "None\n"
     ]
    }
   ],
   "source": [
    "#Create a function that can generate n number of students with random: name, gender, courses (from a fixed list of course names), grades, img_url\n",
    "import random\n",
    "\n",
    "def random_students(n):\n",
    "    \n",
    "    names = [\"Anders, Bo, Carl, Dennis, Emil, Frederik, Gustav, Hans, Ib, Jan\"]\n",
    "    genders = [\"Mand\", \"Kvinde\"]\n",
    "    \n",
    "    java = Course(\"Java\", 101, \"Jens\", 20)\n",
    "    uml = Course(\"UML\", 102, \"Hans\", 10)\n",
    "    javascript = Course(\"JavaScript\", 201, \"Lars\", 30)\n",
    "    python = Course(\"Python\", 202, \"Thomas\", 30)\n",
    "    security = Course(\"Security\", 101, \"Daniel\", 30)\n",
    "    \n",
    "    courses = [java, uml, javascript, python, security]\n",
    "    grades = [-3, 0, 2, 4, 7, 10, 12]\n",
    "    image_url_list = [\"img1.jpg\", \"img2.jpg\", \"img3.jpg\", \"img4.jpg\", \"img5.jpg\"]\n",
    "    \n",
    "    datasheet = DataSheet(courses)\n",
    "    course_list = []\n",
    "    for course in datasheet.courses:\n",
    "        course_list.append(course)\n",
    "        \n",
    "    grade_list = datasheet.get_grades_as_list()\n",
    "    grade_list.append(grades)\n",
    "    \n",
    "    for i in range(n):        \n",
    "        r_name = random.choice(names)\n",
    "        r_gender = random.choice(genders)\n",
    "        r_course = random.choice(course_list)\n",
    "        r_image = random.choice(image_url_list)\n",
    "        r_grade = random.choice(grade_list)\n",
    "\n"
   ]
  },
  {
   "cell_type": "code",
   "execution_count": null,
   "metadata": {},
   "outputs": [],
   "source": [
    "#Let the function write the result to a csv file with format stud_name, course_name, teacher, ects, classroom, grade, img_url\n"
   ]
  }
 ],
 "metadata": {
  "kernelspec": {
   "display_name": "Python 3",
   "language": "python",
   "name": "python3"
  },
  "language_info": {
   "codemirror_mode": {
    "name": "ipython",
    "version": 3
   },
   "file_extension": ".py",
   "mimetype": "text/x-python",
   "name": "python",
   "nbconvert_exporter": "python",
   "pygments_lexer": "ipython3",
   "version": "3.7.6"
  }
 },
 "nbformat": 4,
 "nbformat_minor": 4
}
