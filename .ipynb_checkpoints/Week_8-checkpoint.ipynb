{
 "cells": [
  {
   "cell_type": "markdown",
   "metadata": {},
   "source": [
    "# Week 8 handin"
   ]
  },
  {
   "cell_type": "markdown",
   "metadata": {},
   "source": [
    "## Exercises"
   ]
  },
  {
   "cell_type": "code",
   "execution_count": 1,
   "metadata": {},
   "outputs": [
    {
     "name": "stdout",
     "output_type": "stream",
     "text": [
      " * Serving Flask app \"__main__\" (lazy loading)\n",
      " * Environment: production\n",
      "   WARNING: Do not use the development server in a production environment.\n",
      "   Use a production WSGI server instead.\n",
      " * Debug mode: on\n"
     ]
    },
    {
     "name": "stderr",
     "output_type": "stream",
     "text": [
      " * Running on http://127.0.0.1:5000/ (Press CTRL+C to quit)\n",
      " * Restarting with stat\n"
     ]
    },
    {
     "ename": "SystemExit",
     "evalue": "1",
     "output_type": "error",
     "traceback": [
      "An exception has occurred, use %tb to see the full traceback.\n",
      "\u001b[0;31mSystemExit\u001b[0m\u001b[0;31m:\u001b[0m 1\n"
     ]
    },
    {
     "name": "stderr",
     "output_type": "stream",
     "text": [
      "/opt/conda/lib/python3.7/site-packages/IPython/core/interactiveshell.py:3339: UserWarning: To exit: use 'exit', 'quit', or Ctrl-D.\n",
      "  warn(\"To exit: use 'exit', 'quit', or Ctrl-D.\", stacklevel=1)\n"
     ]
    }
   ],
   "source": [
    "from flask import Flask, jsonify, abort, request\n",
    "\n",
    "app = Flask(__name__)\n",
    "\n",
    "@app.route('/flask_app/')\n",
    "def index():\n",
    "    return \"Hello, World from flask server!\"\n",
    "\n",
    "\n",
    "\n",
    "towns = [\n",
    "    {\n",
    "        'id': 1,\n",
    "        'code' : 3000,\n",
    "        'name': 'Helsingør'\n",
    "    },\n",
    "    {\n",
    "        'id': 2,\n",
    "        'code' : 3070,\n",
    "        'name': 'Snekkersten'\n",
    "    },\n",
    "    {\n",
    "        'id': 3,\n",
    "        'code' : 3060,\n",
    "        'name': 'Espergærde'\n",
    "    },    \n",
    "    {\n",
    "        'id': 4,\n",
    "        'code' : 3100,\n",
    "        'name': 'Hornbæk'\n",
    "    },\n",
    "    {\n",
    "        'id': 5,\n",
    "        'code' : 3140,\n",
    "        'name': 'Ålsgård'\n",
    "    }\n",
    "]\n",
    "\n",
    "@app.route('/towns/', methods=['GET'])\n",
    "def get_towns():\n",
    "    return jsonify({'towns: ': towns} )\n",
    "\n",
    "@app.route('/town/<int:town_id>', methods=['GET'])\n",
    "def get_town(town_id):\n",
    "    town = [town for town in towns if town['id'] == town_id]\n",
    "    if len(town) ==0:\n",
    "        abort(404)\n",
    "    return jsonify({'town: ': town})\n",
    "    \n",
    "@app.route('/town/', methods=['POST'])\n",
    "def create_town():\n",
    "    if not request.json or not 'code' in request.json:\n",
    "        abort(404)\n",
    "    town = {\n",
    "        'id' : towns[-1]['id'] + 1,\n",
    "        'code': request.json['code'],\n",
    "        'name' : request.json['name']\n",
    "    }\n",
    "    towns.append(town)\n",
    "    return jsonify({'towns :' : towns})\n",
    "\n",
    "@app.route('/town/<int:town_id>', methods=['PUT'])\n",
    "def update_town(town_id):\n",
    "    town = [town for town in towns if town['id'] == town_id]\n",
    "    if len(town) == 0:\n",
    "        abort\n",
    "    if not request.json or not 'code' in request.json:\n",
    "        abort(404)\n",
    "    towns[town_id]['code'] = request.json.get('code')\n",
    "    towns[town_id]['name'] = request.json.get('name')\n",
    "    return jsonify({'town: ': towns[town_id]})\n",
    "\n",
    "@app.route('/town/<int:town_id>', methods=['DELETE'])\n",
    "def delete_town(town_id):\n",
    "    town = [town for town in towns if town['id'] == town_id]\n",
    "    if len(town) == 0:\n",
    "        abort(404)\n",
    "    towns.remove(town[0])\n",
    "    return jsonify({'towns :' : towns})\n",
    "\n",
    "\n",
    "if __name__ == '__main__':\n",
    "    app.run(debug=True)"
   ]
  }
 ],
 "metadata": {
  "kernelspec": {
   "display_name": "Python 3",
   "language": "python",
   "name": "python3"
  },
  "language_info": {
   "codemirror_mode": {
    "name": "ipython",
    "version": 3
   },
   "file_extension": ".py",
   "mimetype": "text/x-python",
   "name": "python",
   "nbconvert_exporter": "python",
   "pygments_lexer": "ipython3",
   "version": "3.7.6"
  }
 },
 "nbformat": 4,
 "nbformat_minor": 4
}
