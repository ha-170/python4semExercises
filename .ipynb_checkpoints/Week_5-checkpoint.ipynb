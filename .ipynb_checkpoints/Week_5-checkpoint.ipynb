{
 "cells": [
  {
   "cell_type": "markdown",
   "metadata": {},
   "source": [
    "# Week 5 handin"
   ]
  },
  {
   "cell_type": "markdown",
   "metadata": {},
   "source": [
    "## Assignment\n",
    "### Ex1 Use data from Danmarks Statistik - Databanken\n",
    "1. Go to https://www.dst.dk/da/Statistik/brug-statistikken/muligheder-i-statistikbanken/api#testkonsol\n",
    "2. Open 'Konsol' and click 'Start Konsol'\n",
    "3. In the console at pt 1: choose 'Retrieve tables', pt 2: choose get request and json format and pt 3: execute:\n",
    "  1. check the result\n",
    "  2. in the code below this same get request is used to get information about all available data tables in 'databanken'. \n",
    "4. Change pt. 1 in the console to 'Retrieve data', pt 2: 'get request' and Table id: 'FOLK1A', format: csv, delimiter: semicolon and click: 'Variable and value codes' and choose some sub categories (Hint: hover over the codes to see their meaning). Finally execute and see what data you get.\n",
    "5. With data aggregation and data visualization answer the following questions:\n",
    "  1. What is the change in pct of divorced danes from 2008 to 2020?\n",
    "  2. Which of the 5 biggest cities has the highest percentage of 'Never Married' in 2020?\n",
    "  3. Show a bar chart of changes in marrital status in Copenhagen from 2008 till now\n",
    "  4. Show 2 plots in same figure: 'Married' and 'Never Married' for all ages in DK in 2020 (Hint: x axis is age from 0-125, y axis is how many people in the 2 categories). Add lengend to show names on graphs\n",
    "  \n",
    "### Ex2 Use another table (extra)\n",
    "Choose any of the other tables in 'databanken' to find interesting data.\n",
    "1. Collect the data\n",
    "2. Pose 5 or more interesing questions to the data\n",
    "3. Answer the questions by aggregating the data\n",
    "4. Illustrate the answers with visual plots"
   ]
  },
  {
   "cell_type": "markdown",
   "metadata": {},
   "source": [
    "## Status\n",
    "Alle opgaver i Exercise 1 er løst. \n",
    "Dog vises 5b ikke helt korrekt. \n",
    "I 5d kan jeg ikke få vist de grønne søjler(gifte)."
   ]
  },
  {
   "cell_type": "markdown",
   "metadata": {},
   "source": [
    "## Exercises"
   ]
  },
  {
   "cell_type": "markdown",
   "metadata": {},
   "source": [
    "### Ex1\n",
    "#### 5a What is the change in pct of divorced danes from 2008 to 2020?"
   ]
  },
  {
   "cell_type": "code",
   "execution_count": 224,
   "metadata": {},
   "outputs": [
    {
     "name": "stdout",
     "output_type": "stream",
     "text": [
      "  CIVILSTAND     TID       OMRÅDE  INDHOLD\n",
      "0      Ugift  2008K4  Hele landet  2568255\n",
      "1      Ugift  2021K1  Hele landet  2861497\n",
      "2      I alt  2008K4  Hele landet  5505995\n",
      "3      I alt  2021K1  Hele landet  5840045\n"
     ]
    },
    {
     "data": {
      "image/png": "[encoded data removed]",
      "text/plain": [
       "<Figure size 432x288 with 1 Axes>"
      ]
     },
     "metadata": {
      "needs_background": "light"
     },
     "output_type": "display_data"
    }
   ],
   "source": [
    "import numpy as np\n",
    "import pandas as pd\n",
    "import matplotlib\n",
    "import matplotlib.pyplot as plt\n",
    "\n",
    "url = 'https://api.statbank.dk/v1/data/FOLK1A/CSV?delimiter=Semicolon&CIVILSTAND=U%2CTOT&Tid=2008K4%2C2021K1&OMR%C3%85DE=000'\n",
    "#url = 'https://api.statbank.dk/v1/tables'\n",
    "df = pd.read_csv(url, sep=';')\n",
    "print(df)\n",
    "df.to_csv('dk-stat-all-tables.csv', encoding='utf-8', index=False)\n",
    "df[:20]\n",
    "\n",
    "def calcPerc(count, total):\n",
    "    sum = (count * 100) / total\n",
    "    return sum\n",
    "\n",
    "year = df.iloc[:2,1]\n",
    "yearplot = year[0], year[1]\n",
    "content = df.iloc[:,3]\n",
    "contentplot = [calcPerc(content[0], content[2]), calcPerc(content[1], content[3])]\n",
    "\n",
    "plt.bar(yearplot, contentplot, width=0.9, align='center')\n",
    "plt.ylabel(\"Unmarried in the country in percentage\")\n",
    "plt.show();"
   ]
  },
  {
   "cell_type": "markdown",
   "metadata": {},
   "source": [
    "#### 5b Which of the 5 biggest cities has the highest percentage of 'Never Married' in 2020?"
   ]
  },
  {
   "cell_type": "code",
   "execution_count": 225,
   "metadata": {},
   "outputs": [
    {
     "name": "stdout",
     "output_type": "stream",
     "text": [
      "                     OMRÅDE CIVILSTAND            TID  INDHOLD\n",
      "0           000 Hele landet    U Ugift  2020K4 2020K4  2859116\n",
      "1           000 Hele landet  TOT I alt  2020K4 2020K4  5837213\n",
      "2    084 Region Hovedstaden    U Ugift  2020K4 2020K4   981652\n",
      "3    084 Region Hovedstaden  TOT I alt  2020K4 2020K4  1854296\n",
      "4             101 København    U Ugift  2020K4 2020K4   417782\n",
      "..                      ...        ...            ...      ...\n",
      "205             787 Thisted  TOT I alt  2020K4 2020K4    43217\n",
      "206     820 Vesthimmerlands    U Ugift  2020K4 2020K4    15965\n",
      "207     820 Vesthimmerlands  TOT I alt  2020K4 2020K4    36458\n",
      "208             851 Aalborg    U Ugift  2020K4 2020K4   120226\n",
      "209             851 Aalborg  TOT I alt  2020K4 2020K4   219310\n",
      "\n",
      "[210 rows x 4 columns]\n"
     ]
    },
    {
     "data": {
      "text/plain": [
       "<function matplotlib.pyplot.show(*args, **kw)>"
      ]
     },
     "execution_count": 225,
     "metadata": {},
     "output_type": "execute_result"
    },
    {
     "data": {
      "image/png": "[encoded data removed]",
      "text/plain": [
       "<Figure size 432x288 with 1 Axes>"
      ]
     },
     "metadata": {
      "needs_background": "light"
     },
     "output_type": "display_data"
    }
   ],
   "source": [
    "import numpy as np\n",
    "import pandas as pd\n",
    "import matplotlib\n",
    "import matplotlib.pyplot as plt\n",
    "\n",
    "url = 'https://api.statbank.dk/v1/data/FOLK1A/CSV?valuePresentation=CodeAndValue&timeOrder=Descending&delimiter=Semicolon&OMR%C3%85DE=*&CIVILSTAND=U%2CTOT&Tid=2020K4'\n",
    "#url = 'https://api.statbank.dk/v1/tables'\n",
    "df = pd.read_csv(url, sep=';')\n",
    "print(df)\n",
    "df.to_csv('dk-stat-all-tables.csv', encoding='utf-8', index=False)\n",
    "df[:20]\n",
    "\n",
    "content = df.iloc[:,3]\n",
    "contentplot = []\n",
    "\n",
    "def calcPerc(count, total):\n",
    "    sum = (count * 100) / total\n",
    "    return sum\n",
    "\n",
    "for element in content:\n",
    "    contentplot.append(calcPerc(element,content[3]))\n",
    "\n",
    "plt.bar(content, contentplot, width=0.2, align='center')\n",
    "plt.xticks(rotation=45)\n",
    "plt.ylabel('Ugifte i procent i 5 byer')\n",
    "plt.show"
   ]
  },
  {
   "cell_type": "markdown",
   "metadata": {},
   "source": [
    "#### 5c Show a bar chart of changes in marrital status in Copenhagen from 2008 till now"
   ]
  },
  {
   "cell_type": "code",
   "execution_count": 226,
   "metadata": {},
   "outputs": [
    {
     "name": "stdout",
     "output_type": "stream",
     "text": [
      "      OMRÅDE     TID      CIVILSTAND  INDHOLD\n",
      "0  København  2008K1  Gift/separeret   128556\n",
      "1  København  2008K1           I alt   509861\n",
      "2  København  2021K1  Gift/separeret   150279\n",
      "3  København  2021K1           I alt   638117\n"
     ]
    },
    {
     "data": {
      "image/png": "[encoded data removed]",
      "text/plain": [
       "<Figure size 432x288 with 1 Axes>"
      ]
     },
     "metadata": {
      "needs_background": "light"
     },
     "output_type": "display_data"
    }
   ],
   "source": [
    "import numpy as np\n",
    "import pandas as pd\n",
    "import matplotlib\n",
    "import matplotlib.pyplot as plt\n",
    "\n",
    "url = 'https://api.statbank.dk/v1/data/FOLK1A/CSV?delimiter=Semicolon&OMR%C3%85DE=101%2C&Tid=2008K1%2C2021K1&CIVILSTAND=G%2CTOT'\n",
    "#url = 'https://api.statbank.dk/v1/tables'\n",
    "df = pd.read_csv(url, sep=';')\n",
    "print(df)\n",
    "df.to_csv('dk-stat-all-tables.csv', encoding='utf-8', index=False)\n",
    "df[:20]\n",
    "\n",
    "def calcPerc(count, total):\n",
    "    sum = (count * 100) / total\n",
    "    return sum\n",
    "\n",
    "content = df.iloc[:,3]\n",
    "\n",
    "plt.bar(['2008', '2020'], [calcPerc(content[0], content[1]), calcPerc(content[2], content[3])], width=0.9, align='center')\n",
    "plt.ylabel('Københavnere der har ændret civilstatus')\n",
    "plt.show()"
   ]
  },
  {
   "cell_type": "markdown",
   "metadata": {},
   "source": [
    "#### 5d Show 2 plots in same figure: 'Married' and 'Never Married' for all ages in DK in 2020 (Hint: x axis is age from 0-125, y axis is how many people in the 2 categories). Add lengend to show names on graphs"
   ]
  },
  {
   "cell_type": "code",
   "execution_count": 227,
   "metadata": {},
   "outputs": [
    {
     "data": {
      "image/png": "[encoded data removed]",
      "text/plain": [
       "<Figure size 432x288 with 1 Axes>"
      ]
     },
     "metadata": {
      "needs_background": "light"
     },
     "output_type": "display_data"
    }
   ],
   "source": [
    "import numpy as np\n",
    "import pandas as pd\n",
    "import matplotlib\n",
    "import matplotlib.pyplot as plt\n",
    "\n",
    "url = 'https://api.statbank.dk/v1/data/FOLK1A/CSV?delimiter=Semicolon&CIVILSTAND=G%2CU&ALDER=*&Tid=2020K4'\n",
    "df = pd.read_csv(url, sep=';')\n",
    "unmarried = df.iloc[128:,3]\n",
    "married = df.iloc[1:127,3]\n",
    "age = np.arange(126)\n",
    "\n",
    "plotunmarried = []\n",
    "for element in unmarried:\n",
    "    plotunmarried.append(element)\n",
    "    \n",
    "plotmarried = []\n",
    "for element in married:\n",
    "    plotmarried.append(element)\n",
    "\n",
    "plt.bar(age, plotunmarried, width=0.8, color='red')\n",
    "plt.bar(age, plotmarried, width=0.8, color='green')\n",
    "\n",
    "plt.ylabel('Antal')\n",
    "plt.xlabel('Alder')\n",
    "plt.title('Antal af gifte og ugifte i alle aldersgrupper i hele DK i 2020')\n",
    "plt.legend(['ugift','gift'])\n",
    "plt.show()"
   ]
  }
 ],
 "metadata": {
  "kernelspec": {
   "display_name": "Python 3",
   "language": "python",
   "name": "python3"
  },
  "language_info": {
   "codemirror_mode": {
    "name": "ipython",
    "version": 3
   },
   "file_extension": ".py",
   "mimetype": "text/x-python",
   "name": "python",
   "nbconvert_exporter": "python",
   "pygments_lexer": "ipython3",
   "version": "3.7.6"
  }
 },
 "nbformat": 4,
 "nbformat_minor": 4
}
