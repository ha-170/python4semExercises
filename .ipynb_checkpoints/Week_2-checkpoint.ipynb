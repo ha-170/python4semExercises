{
 "cells": [
  {
   "cell_type": "markdown",
   "metadata": {},
   "source": [
    "# Week 2 handin"
   ]
  },
  {
   "cell_type": "markdown",
   "metadata": {},
   "source": [
    "## Assignment\n",
    "### Exercise 1\n",
    "1. Create a python file with 3 functions:\n",
    "  1. `def print_file_content(file)` that can print content of a csv file to the console\n",
    "  2. `def write_list_to_file(output_file, lst)` that can take a list of tuple and write each element to a new line in file\n",
    "    1. rewrite the function so that it gets an arbitrary number of strings instead of a list\n",
    "  3. `def read_csv(input_file)` that take a csv file and read each row into a list\n",
    "2. Add a functionality so that the file can be called from cli with 2 arguments\n",
    "  1. path to csv file\n",
    "  2. an argument `--file file_name` that if given will write the content to file_name or otherwise will print it to the console.\n",
    "3. Add a --help cli argument to describe how the module is used \n",
    "\n",
    "### Exercise 2\n",
    "Create a module called utils.py with the following 5 functions:\n",
    "\n",
    "```python\n",
    "def get_file_names(folderpath,out=output.txt):\n",
    "    \"\"\" takes a path to a folder and writes all filenames in the folder to a specified output file\"\"\"\n",
    "\n",
    "def get_all_file_names(folderpath,out=output.txt):\n",
    "    \"\"\"takes a path to a folder and write all filenames recursively (files of all sub folders to)\"\"\"\n",
    "\n",
    "def print_line_one(file_names):\n",
    "    \"\"\"takes a list of filenames and print the first line of each\"\"\"\n",
    "\n",
    "def print_emails(file_names):\n",
    "    \"\"\"takes a list of filenames and print each line that contains an email (just look for @)\"\"\"\n",
    "\n",
    "def write_headlines(md_files, out=output.txt):\n",
    "    \"\"\"takes a list of md files and writes all headlines (lines starting with #) to a file\"\"\"\n",
    "\n",
    "```\n",
    "Make sure your module can be called both from cli and imported to another module\n",
    "Create a new module that imports utils.py and test each function."
   ]
  },
  {
   "cell_type": "markdown",
   "metadata": {},
   "source": [
    "## Status\n",
    "Der har været udfordringer med Exercise 2, hvorfor denne ikke er lavet. "
   ]
  },
  {
   "cell_type": "markdown",
   "metadata": {},
   "source": [
    "## Exercise 1"
   ]
  },
  {
   "cell_type": "markdown",
   "metadata": {},
   "source": [
    "### 1. Create a python file with 3 functions:"
   ]
  },
  {
   "cell_type": "markdown",
   "metadata": {},
   "source": [
    "##### A. `def print_file_content(file)` that can print content of a csv file to the console"
   ]
  },
  {
   "cell_type": "code",
   "execution_count": null,
   "metadata": {},
   "outputs": [],
   "source": [
    "from modules import week2functions as func\n",
    "\n",
    "file = './files/week2.csv'\n",
    "\n",
    "func.print_file_content(file)"
   ]
  },
  {
   "cell_type": "markdown",
   "metadata": {},
   "source": [
    "##### B. `def write_list_to_file(output_file, lst)` that can take a list of tuple and write each element to a new line in file"
   ]
  },
  {
   "cell_type": "code",
   "execution_count": null,
   "metadata": {},
   "outputs": [],
   "source": [
    "from modules import week2functions as func\n",
    "\n",
    "file = './files/week2.txt'\n",
    "\n",
    "my_tuple = (\"hej\", \"med\", \"dig\")\n",
    "\n",
    "func.write_list_to_file(file, my_tuple)"
   ]
  },
  {
   "cell_type": "markdown",
   "metadata": {},
   "source": [
    "###### a. rewrite the function so that it gets an arbitrary number of strings instead of a list"
   ]
  },
  {
   "cell_type": "code",
   "execution_count": null,
   "metadata": {
    "scrolled": true
   },
   "outputs": [],
   "source": [
    "from modules import week2functions as func\n",
    "\n",
    "file = './files/week2.txt'\n",
    "\n",
    "string1 = \"hej\"\n",
    "string2 = \"med\"\n",
    "string3 = \"dig\"\n",
    "string4 = \"igen\"\n",
    "\n",
    "func.write_strings_to_file(file, string1, string2, string3, string4)"
   ]
  },
  {
   "cell_type": "markdown",
   "metadata": {},
   "source": [
    "##### C. `def read_csv(input_file)` that take a csv file and read each row into a list"
   ]
  },
  {
   "cell_type": "code",
   "execution_count": 4,
   "metadata": {},
   "outputs": [
    {
     "data": {
      "text/plain": [
       "[['1'], ['2'], ['3'], ['4'], ['5'], ['6'], ['7'], ['8'], ['9']]"
      ]
     },
     "execution_count": 4,
     "metadata": {},
     "output_type": "execute_result"
    }
   ],
   "source": [
    "from modules import week2functions as func\n",
    "\n",
    "file = './files/week2.csv'\n",
    "\n",
    "func.read_csv(file)"
   ]
  },
  {
   "cell_type": "markdown",
   "metadata": {},
   "source": [
    "### 2. Add a functionality so that the file can be called from cli with 2 arguments"
   ]
  },
  {
   "cell_type": "markdown",
   "metadata": {},
   "source": [
    "##### A. path to csv file"
   ]
  },
  {
   "cell_type": "code",
   "execution_count": 10,
   "metadata": {},
   "outputs": [],
   "source": [
    "!python modules/week2functions.py -i files/week2.csv -o files/output_csv.csv"
   ]
  },
  {
   "cell_type": "markdown",
   "metadata": {},
   "source": [
    "##### B. an argument `--file file_name` that if given will write the content to file_name or otherwise will print it to the console."
   ]
  },
  {
   "cell_type": "code",
   "execution_count": 11,
   "metadata": {},
   "outputs": [],
   "source": [
    "!python modules/week2functions.py -i files/week2.csv"
   ]
  },
  {
   "cell_type": "markdown",
   "metadata": {},
   "source": [
    "### 3. Add a --help cli argument to describe how the module is used "
   ]
  },
  {
   "cell_type": "code",
   "execution_count": 12,
   "metadata": {},
   "outputs": [],
   "source": [
    "!python modules/week2functions.py --help"
   ]
  }
 ],
 "metadata": {
  "kernelspec": {
   "display_name": "Python 3",
   "language": "python",
   "name": "python3"
  },
  "language_info": {
   "codemirror_mode": {
    "name": "ipython",
    "version": 3
   },
   "file_extension": ".py",
   "mimetype": "text/x-python",
   "name": "python",
   "nbconvert_exporter": "python",
   "pygments_lexer": "ipython3",
   "version": "3.7.6"
  }
 },
 "nbformat": 4,
 "nbformat_minor": 4
}
