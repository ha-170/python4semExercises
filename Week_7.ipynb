{
 "cells": [
  {
   "cell_type": "markdown",
   "metadata": {},
   "source": [
    "# Week 7 handin"
   ]
  },
  {
   "cell_type": "markdown",
   "metadata": {},
   "source": [
    "## Assignment\n",
    "### Ex1 \n",
    "With websraping go to DR.dk, and find all headlines containing the word or name of your choice. For example: \"Mette\", Vaccine\", \"Corona\" and so on. Try to choose something popular/current, to be sure to get results/headlines. When printing the list of headlines, try also to print the amount of headlines in the list.\n",
    "### Ex2 \n",
    "Pick 3 words from the text you get from exercise 1.\n",
    "Use \"Regular Expressions\" to find whichever words you choice and show how many times they occur in the text with a bar plot.\n",
    "### Ex3 \n",
    "Use selenium for this exercise.\n",
    "Use one of the 3 words as a search keyword and use google.com With that keyword.\n",
    "and then get the first link from that search."
   ]
  },
  {
   "cell_type": "markdown",
   "metadata": {},
   "source": [
    "## Status\n",
    "Hvis ex2 fejler, skal word1, word2 og word3 tilrettes, så de indeholder et ord, som printes i ex1."
   ]
  },
  {
   "cell_type": "markdown",
   "metadata": {},
   "source": [
    "## Exercises"
   ]
  },
  {
   "cell_type": "markdown",
   "metadata": {},
   "source": [
    "### Ex1"
   ]
  },
  {
   "cell_type": "code",
   "execution_count": 7,
   "metadata": {},
   "outputs": [
    {
     "name": "stdout",
     "output_type": "stream",
     "text": [
      "['Ugens coronatal forklaret: Kan vi stole på, at alle har fået vacciner til august?', 'Ugens coronatal forklaret: Kan vi stole på, at alle har fået vacciner til august?', 'Slutdato for vacciner er rykket til 22. august: Se din vaccinationstid her', 'Se vaccinen blive rullet ud: Så langt er Danmark og resten af verden'] 4\n"
     ]
    }
   ],
   "source": [
    "import matplotlib.pyplot as plt\n",
    "import bs4\n",
    "import requests\n",
    "import urllib.request\n",
    "import re\n",
    "\n",
    "url = \"https://www.dr.dk/\"\n",
    "rUrl = requests.get(url)\n",
    "rUrl.raise_for_status()\n",
    "\n",
    "beauti = bs4.BeautifulSoup(rUrl.text, 'html.parser')\n",
    "\n",
    "listHeadlines = []\n",
    "listWithVaccine = []\n",
    "\n",
    "headlines = beauti.findAll('a')\n",
    "for headline in headlines:\n",
    "    listHeadlines.append(headline.getText())\n",
    "\n",
    "for headline in headlines:\n",
    "    if ('vaccine' in headline.getText()):\n",
    "        listWithVaccine.append(headline.getText())\n",
    "        \n",
    "print(listWithVaccine, len(listWithVaccine))"
   ]
  },
  {
   "cell_type": "markdown",
   "metadata": {},
   "source": [
    "### Ex2"
   ]
  },
  {
   "cell_type": "code",
   "execution_count": 15,
   "metadata": {},
   "outputs": [
    {
     "data": {
      "image/png": "[encoded data removed]",
      "text/plain": [
       "<Figure size 432x288 with 1 Axes>"
      ]
     },
     "metadata": {
      "needs_background": "light"
     },
     "output_type": "display_data"
    }
   ],
   "source": [
    "word1 = re.compile('corona')\n",
    "word2 = re.compile('er')\n",
    "word3 = re.compile('at')\n",
    "\n",
    "word1_find = word1.search(str(listWithVaccine))\n",
    "word2_find = word2.search(str(listWithVaccine))\n",
    "word3_find = word3.search(str(listWithVaccine))\n",
    "\n",
    "all_word1 = word1.findall(str(listWithVaccine))\n",
    "all_word2 = word2.findall(str(listWithVaccine))\n",
    "all_word3 = word3.findall(str(listWithVaccine))\n",
    "\n",
    "listOfNames = [word1_find.group(0), word2_find.group(0), word3_find.group(0)]\n",
    "listOfTimes = [len(all_word1), len(all_word2), len(all_word3)]\n",
    "\n",
    "plt.bar(listOfNames,listOfTimes)\n",
    "plt.show()"
   ]
  },
  {
   "cell_type": "markdown",
   "metadata": {},
   "source": [
    "### Ex3"
   ]
  },
  {
   "cell_type": "code",
   "execution_count": 11,
   "metadata": {},
   "outputs": [
    {
     "name": "stdout",
     "output_type": "stream",
     "text": [
      "https://www.sst.dk/da/corona\n"
     ]
    }
   ],
   "source": [
    "from selenium.webdriver.firefox.options import Options\n",
    "from selenium import webdriver\n",
    "\n",
    "urlSelenium = 'https://www.google.com/'\n",
    "\n",
    "options = Options()\n",
    "options.headless = True\n",
    "\n",
    "browser = webdriver.Firefox(options = options)\n",
    "browser.get(urlSelenium)\n",
    "browser.implicitly_wait(3)\n",
    "\n",
    "searchBar = browser.find_element_by_name('q')\n",
    "searchBar.send_keys('Corona')\n",
    "searchBar.submit()\n",
    "\n",
    "link = browser.find_element_by_xpath('//a[@href=\"https://www.sst.dk/da/corona\"]')\n",
    "\n",
    "the_link = link.get_attribute(\"href\")\n",
    "print(the_link)"
   ]
  }
 ],
 "metadata": {
  "kernelspec": {
   "display_name": "Python 3",
   "language": "python",
   "name": "python3"
  },
  "language_info": {
   "codemirror_mode": {
    "name": "ipython",
    "version": 3
   },
   "file_extension": ".py",
   "mimetype": "text/x-python",
   "name": "python",
   "nbconvert_exporter": "python",
   "pygments_lexer": "ipython3",
   "version": "3.7.6"
  }
 },
 "nbformat": 4,
 "nbformat_minor": 4
}
