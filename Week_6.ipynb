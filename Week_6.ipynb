{
 "cells": [
  {
   "cell_type": "markdown",
   "metadata": {},
   "source": [
    "# Week 6 handin"
   ]
  },
  {
   "cell_type": "markdown",
   "metadata": {},
   "source": [
    "## Assignment\n",
    "### Ex1 \n",
    "Create a module containing a class: TextComparer with the following methods:\n",
    "1. `__init__(self, url_list)`\n",
    "2. `download(url,filename)` that stores the file on disk and raises NotFoundException when url returns 404\n",
    "3. `multi_download()` uses threads to download multiple urls as text and stores filenames on a property of the TextComparer class object (Hint: use the download() method and create the filenames from the url or from the response object)\n",
    "4. `__iter__()` returns an iterator\n",
    "5. `__next__()` returns the next filename (and stops when there are no more)\n",
    "6. `urllist_generator()` returns a generator to loop through the urls\n",
    "7. `avg_vowels(text)` - a rough estimate on readability returns average number of vowels in the words of the text\n",
    "8. `hardest_read()` reads all text from files in `filenames` and returns the filename of the text with the highest vowel score (use all the cpu cores on the computer for this work.\n",
    "\n",
    "### Ex 2\n",
    "Create a notebook and import your module from above\n",
    "1. Find 10 books on https://www.gutenberg.org/browse/scores/top and download them using an object of the class you just created before\n",
    "2. Test the different methods of your class\n",
    "3. Make a bar plot with a sorted list of books on x-axis and avg vowels on y-axis"
   ]
  },
  {
   "cell_type": "markdown",
   "metadata": {},
   "source": [
    "## Status\n",
    "."
   ]
  },
  {
   "cell_type": "markdown",
   "metadata": {},
   "source": [
    "## Exercises"
   ]
  },
  {
   "cell_type": "markdown",
   "metadata": {},
   "source": [
    "### Ex1\n"
   ]
  },
  {
   "cell_type": "code",
   "execution_count": 1,
   "metadata": {},
   "outputs": [],
   "source": [
    "from modules import week6"
   ]
  },
  {
   "cell_type": "markdown",
   "metadata": {},
   "source": [
    "### Ex2.1"
   ]
  },
  {
   "cell_type": "code",
   "execution_count": 2,
   "metadata": {},
   "outputs": [],
   "source": [
    "books = [\n",
    "    'https://www.gutenberg.org/files/84/84-0.txt',\n",
    "    'https://www.gutenberg.org/files/1342/1342-0.txt',\n",
    "    'https://www.gutenberg.org/files/64317/64317-0.txt',\n",
    "    'https://www.gutenberg.org/files/98/98-0.txt',\n",
    "    'https://www.gutenberg.org/files/11/11-0.txt',\n",
    "    'https://www.gutenberg.org/files/2542/2542-0.txt',\n",
    "    'https://www.gutenberg.org/files/844/844-0.txt',\n",
    "    'https://www.gutenberg.org/files/1080/1080-0.txt',\n",
    "    'https://www.gutenberg.org/files/174/174-0.txt',\n",
    "    'https://www.gutenberg.org/files/5200/5200-0.txt',\n",
    "]"
   ]
  },
  {
   "cell_type": "markdown",
   "metadata": {},
   "source": [
    "### Ex2.2"
   ]
  },
  {
   "cell_type": "code",
   "execution_count": 115,
   "metadata": {},
   "outputs": [
    {
     "name": "stdout",
     "output_type": "stream",
     "text": [
      "<class '__main__.TextComparer'>\n",
      "['./Files/1342-0.txt', './Files/11-0.txt', './Files/98-0.txt', './Files/64317-0.txt', './Files/2542-0.txt', './Files/844-0.txt', './Files/1080-0.txt', './Files/174-0.txt', './Files/84-0.txt', './Files/5200-0.txt']\n",
      "<class 'generator'>\n",
      "['https://www.gutenberg.org/files/84/84-0.txt', 'https://www.gutenberg.org/files/1342/1342-0.txt', 'https://www.gutenberg.org/files/64317/64317-0.txt', 'https://www.gutenberg.org/files/98/98-0.txt', 'https://www.gutenberg.org/files/11/11-0.txt', 'https://www.gutenberg.org/files/2542/2542-0.txt', 'https://www.gutenberg.org/files/844/844-0.txt', 'https://www.gutenberg.org/files/1080/1080-0.txt', 'https://www.gutenberg.org/files/174/174-0.txt', 'https://www.gutenberg.org/files/5200/5200-0.txt']\n",
      "209927\n",
      "227401\n"
     ]
    }
   ],
   "source": [
    "test = TextComparer(books)\n",
    "\n",
    "\n",
    "test.download('https://www.gutenberg.org/files/1342/1342-0.txt')\n",
    "\n",
    "\n",
    "test.multi_download()\n",
    "\n",
    "iterable = TextComparer(books)\n",
    "iterable.multi_download()\n",
    "my_iterator = iter(iterable)\n",
    "print(type(my_iterator))\n",
    "\n",
    "try:\n",
    "    element1 = next(my_iterator)\n",
    "    print(element1)\n",
    "except StopIteration as e:\n",
    "    print(type(e))\n",
    "    \n",
    "gen = test.urllist_generator()\n",
    "print(type(gen))\n",
    "for url in gen:\n",
    "    print(url)\n",
    "    \n",
    "b = test.avg_vowels(test.filenames[0])\n",
    "print(b)\n",
    "\n",
    "e = test.hardest_read()\n",
    "print(e)\n",
    "\n"
   ]
  },
  {
   "cell_type": "markdown",
   "metadata": {},
   "source": [
    "### Ex2.3"
   ]
  },
  {
   "cell_type": "code",
   "execution_count": 116,
   "metadata": {},
   "outputs": [
    {
     "data": {
      "image/png": "[encoded data removed]",
      "text/plain": [
       "<Figure size 432x288 with 1 Axes>"
      ]
     },
     "metadata": {
      "needs_background": "light"
     },
     "output_type": "display_data"
    }
   ],
   "source": [
    "import matplotlib.pyplot as plt\n",
    "\n",
    "plot_filename = []\n",
    "plot_vowels = []\n",
    "for filename in test.filenames:\n",
    "    plot_filename.append(filename.split('/')[2])\n",
    "    plot_vowels.append(test.avg_vowels(filename))\n",
    "    \n",
    "plt.bar(plot_filename, plot_vowels, width=0.35, color='red')\n",
    "plt.xticks(rotation=45)\n",
    "plt.show()"
   ]
  }
 ],
 "metadata": {
  "kernelspec": {
   "display_name": "Python 3",
   "language": "python",
   "name": "python3"
  },
  "language_info": {
   "codemirror_mode": {
    "name": "ipython",
    "version": 3
   },
   "file_extension": ".py",
   "mimetype": "text/x-python",
   "name": "python",
   "nbconvert_exporter": "python",
   "pygments_lexer": "ipython3",
   "version": "3.7.6"
  }
 },
 "nbformat": 4,
 "nbformat_minor": 4
}
